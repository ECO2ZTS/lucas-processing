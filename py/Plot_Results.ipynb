{
 "cells": [
  {
   "cell_type": "markdown",
   "metadata": {},
   "source": [
    "# LUCAS – Result plots\n",
    "\n",
    "<div class=\"alert alert-block alert-info\">\n",
    "        This notebook refers to the studies presented in <b>Chapter 4</b> of the Ph.D. thesis [4].\n",
    "    With this notebook, you can process the raw LUCAS 2012 soil dataset to work with the 1D CNNs [2].\n",
    "    We can not guarantee completeness or correctness of the code.\n",
    "    If you find bugs or if you have suggestions on how to improve the code, we encourage you to post your ideas as <a href=\"https://github.com/felixriese/lucas-processing/issues\">GitHub issue</a>.\n",
    "</div>"
   ]
  },
  {
   "cell_type": "code",
   "execution_count": null,
   "metadata": {},
   "outputs": [],
   "source": [
    "%matplotlib inline\n",
    "%config InlineBackend.figure_format = 'retina'\n",
    "%load_ext autoreload\n",
    "%autoreload 2"
   ]
  },
  {
   "cell_type": "code",
   "execution_count": null,
   "metadata": {},
   "outputs": [],
   "source": [
    "import matplotlib.pyplot as plt\n",
    "import matplotlib\n",
    "import numpy as np\n",
    "import pickle\n",
    "from sklearn.metrics import confusion_matrix\n",
    "from sklearn.preprocessing import label_binarize\n",
    "\n",
    "import lucas_utils as utils"
   ]
  },
  {
   "cell_type": "code",
   "execution_count": null,
   "metadata": {
    "scrolled": true
   },
   "outputs": [],
   "source": [
    "dataset = utils.get_data(\n",
    "    targetvar=\"superclass\",\n",
    "    path=\"data/5_lucas_final_\",\n",
    "    scaling_x=False,\n",
    "    scaling_y=False)\n",
    "\n",
    "classes = ['super_L', 'super_S', 'super_T', 'super_U']\n",
    "\n",
    "y_train = label_binarize(dataset[3], classes=classes)\n",
    "y_val = label_binarize(dataset[4], classes=classes)\n",
    "y_test = label_binarize(dataset[5], classes=classes)\n",
    "\n",
    "print(y_val.shape, y_test.shape)"
   ]
  },
  {
   "cell_type": "code",
   "execution_count": null,
   "metadata": {},
   "outputs": [],
   "source": [
    "# CHANGE \"val\" or \"test\"\n",
    "MODE = \"test\""
   ]
  },
  {
   "cell_type": "markdown",
   "metadata": {},
   "source": [
    "## Confusion matrices"
   ]
  },
  {
   "cell_type": "code",
   "execution_count": null,
   "metadata": {},
   "outputs": [],
   "source": [
    "fig, axlist = plt.subplots(3,2, figsize=(11,16), sharex=True, sharey=True)\n",
    "axlist = axlist.flatten()\n",
    "fontsize = 15\n",
    "\n",
    "runs = [\n",
    "    \"20200318_151210_RF\",\n",
    "    \"20200318_151433_LiuEtAl\",\n",
    "    \"20200318_150728_HuEtAl\",\n",
    "    \"20200318_145323_LucasCNN\",\n",
    "    \"20200318_132141_LucasResNet\",\n",
    "    \"20200318_175316_LucasCoordConv\",\n",
    "]\n",
    "\n",
    "names = {\n",
    "    \"LucasCNN\": \"LucasCNN\",\n",
    "    \"LucasResNet\": \"LucasResNet\",\n",
    "    \"LucasCoordConv\": \"LucasCoordConv\",\n",
    "    \"HuEtAl\": \"Hu et al. (2015)\",\n",
    "    \"LiuEtAl\": \"Liu et al. (2018)\",\n",
    "    \"RF\": \"RF\"\n",
    "}\n",
    "\n",
    "for i, run in enumerate(runs):\n",
    "    # get y_true and y_pred\n",
    "    if MODE == \"val\":\n",
    "        y_true = y_val\n",
    "        y_pred = pickle.load(open(\"results/\"+run+\"_yvalpred.p\", \"rb\"))\n",
    "    elif MODE == \"test\":\n",
    "        y_true = y_test\n",
    "        y_pred = pickle.load(open(\"results/\"+run+\"_ytestpred.p\", \"rb\"))\n",
    "\n",
    "    # Compute confusion matrix\n",
    "    if not \"RF\" in run:\n",
    "        cnf_matrix = confusion_matrix(y_true.argmax(axis=1), y_pred.argmax(axis=1))\n",
    "    else:\n",
    "        cnf_matrix = confusion_matrix(y_true.argmax(axis=1), y_pred)\n",
    "    \n",
    "    # Plot\n",
    "    img = utils.plot_confusion_matrix(\n",
    "        cnf_matrix, [c[6:] for c in classes],\n",
    "        axlist[i], normalize=True, title=names[run[16:]],\n",
    "        fontsize=fontsize,\n",
    "        show_xlabel=bool(i>3),\n",
    "        show_ylabel=not bool(i%2))\n",
    "                                \n",
    "\n",
    "# plt.tight_layout()\n",
    "\n",
    "# colorbar\n",
    "fig.subplots_adjust(right=0.85)\n",
    "cbar_ax = fig.add_axes([0.87, 0.15, 0.02, 0.70])  # [left, bottom, width, height]\n",
    "cbar = fig.colorbar(img, cax=cbar_ax)\n",
    "cbar_ax.tick_params(labelsize=fontsize)\n",
    "cbar.set_label(label=r'$\\frac{\\mathrm{Number\\ of\\ classified\\ datapoints\\ as\\ class\\ }x}{\\mathrm{Number\\ of\\ datapoints\\ in\\ class\\ }x}$',\n",
    "               fontsize=20,\n",
    "               labelpad=20)\n",
    "\n",
    "# save and show\n",
    "plt.savefig(\"plots/confusion_\"+MODE+\"_portrait.pdf\", bbox_inches='tight')\n",
    "plt.show()"
   ]
  },
  {
   "cell_type": "markdown",
   "metadata": {},
   "source": [
    "## Histograms"
   ]
  },
  {
   "cell_type": "code",
   "execution_count": null,
   "metadata": {},
   "outputs": [],
   "source": [
    "print(\"Train:\", len(y_train_numeric))\n",
    "print(\"Val:\", len(y_val_numeric))\n",
    "print(\"Test:\", len(y_test_numeric))"
   ]
  },
  {
   "cell_type": "code",
   "execution_count": null,
   "metadata": {},
   "outputs": [],
   "source": [
    "fontsize = 15\n",
    "fig, (ax1, ax2, ax3) = plt.subplots(1, 3, figsize=(10, 4), sharey=True)\n",
    "\n",
    "class_dict = {\"super_L\": 0, 'super_S': 1, 'super_T': 2, 'super_U': 3}\n",
    "\n",
    "y_train_numeric = [class_dict[x] for x in list(dataset[3])]\n",
    "y_val_numeric = [class_dict[x] for x in list(dataset[4])]\n",
    "y_test_numeric = [class_dict[x] for x in list(dataset[5])]\n",
    "\n",
    "print(np.unique(y_train_numeric, return_counts=True))\n",
    "\n",
    "\n",
    "bins = [-0.5,0.5, 1.5, 2.5, 3.5]\n",
    "\n",
    "n, _, patches = ax1.hist(\n",
    "    y_train_numeric, label=\"Training\", color=\"#4664aa\", bins=bins, \n",
    "    alpha=0.8, histtype=\"bar\")\n",
    "print(\"Max:\", np.max(n))\n",
    "\n",
    "ax2.hist(\n",
    "    y_val_numeric, bins=bins, label=\"Validation\",\n",
    "    histtype=\"bar\", linewidth=3, color=\"#e58323\")\n",
    "ax3.hist(\n",
    "    y_test_numeric, bins=bins, label=\"Test\",\n",
    "    histtype=\"bar\", linewidth=3, color=\"#9b1723\")\n",
    "\n",
    "# set titles:\n",
    "ax1.set_title(\"Training\", y=0.88, fontsize=fontsize)\n",
    "ax2.set_title(\"Validation\", y=0.88, fontsize=fontsize)\n",
    "ax3.set_title(\"Test\", y=0.88, fontsize=fontsize)\n",
    "\n",
    "for ax in (ax1, ax2, ax3):\n",
    "    ax.set_xlabel(\"Soil classes\", fontsize=fontsize, labelpad=10)\n",
    "    ax.set_xticks([0,1,2,3])\n",
    "    ax.set_xticklabels([c[-1] for c in classes], fontsize=fontsize)\n",
    "    ax.tick_params(axis=\"y\", labelsize=fontsize)\n",
    "    ax.set_ylim(0, 4000)\n",
    "    ax.xaxis.grid(alpha=0.3)\n",
    "    ax.yaxis.grid(alpha=0.3)\n",
    "\n",
    "ax1.set_ylabel(\"Number of datapoints\", fontsize=fontsize, labelpad=10)\n",
    "\n",
    "plt.tight_layout()\n",
    "\n",
    "plt.savefig(\"plots/class_3histos.pdf\", bbox_inches='tight')"
   ]
  },
  {
   "cell_type": "markdown",
   "metadata": {},
   "source": [
    "## False classification plot"
   ]
  },
  {
   "cell_type": "code",
   "execution_count": null,
   "metadata": {},
   "outputs": [],
   "source": [
    "y_test_sand = utils.get_data(targetvar=\"sand\", path=\"data/5_lucas_final_\")[5]\n",
    "y_test_silt = utils.get_data(targetvar=\"silt\", path=\"data/5_lucas_final_\")[5]\n",
    "y_test_clay = utils.get_data(targetvar=\"clay\", path=\"data/5_lucas_final_\")[5]\n",
    "y_test_superclass = utils.get_data(targetvar=\"superclass\", path=\"data/5_lucas_final_\")[5]\n",
    "\n",
    "color = {\"super_L\": 2, \"super_S\": 1, \"super_T\": 4, \"super_U\": 3}\n",
    "classes = list(color.keys())\n",
    "fontsize = 15\n",
    "def get_color(class_list):\n",
    "    return [int(color[cl]) for cl in class_list]\n",
    "\n",
    "# colormap\n",
    "cmap = plt.cm.viridis\n",
    "cmaplist = [cmap(i) for i in range(cmap.N)]\n",
    "cmap = matplotlib.colors.LinearSegmentedColormap.from_list('mcm', cmaplist, cmap.N)\n",
    "bounds = np.linspace(1, 5, 5)\n",
    "norm = matplotlib.colors.BoundaryNorm(bounds, cmap.N)\n",
    "\n",
    "fig, axlist = plt.subplots(3,2, figsize=(11,16), sharex=True, sharey=True)\n",
    "axlist = axlist.flatten()\n",
    "fontsize = 15\n",
    "\n",
    "for i, run in enumerate(runs):\n",
    "    ax = axlist[i]\n",
    "\n",
    "    y_pred = pickle.load(open(\"results/\"+run+\"_ytestpred.p\", \"rb\"))\n",
    "    if y_pred.shape != (3208, ):\n",
    "        y_pred = np.argmax(y_pred, axis=1)\n",
    "\n",
    "    # true_index = np.argmax(y_test, axis=1) == np.argmax(y_pred, axis=1)\n",
    "    false_index = np.argmax(y_test, axis=1) != y_pred\n",
    "\n",
    "    ax.scatter(y_test_clay[false_index], y_test_silt[false_index],\n",
    "                c=get_color(y_test_superclass[false_index]),\n",
    "                marker=\"o\", alpha=0.3, cmap=cmap, norm=norm, label=\"\")\n",
    "    \n",
    "    ax.set_title(names[run[16:]], fontsize=fontsize, weight=\"bold\")\n",
    "    ax.set_xlim(0,100)\n",
    "    ax.set_ylim(0,100)\n",
    "    if i > 3:\n",
    "        ax.set_xlabel(\"Clay content in %\", fontsize=fontsize, labelpad=15)\n",
    "    if i % 2 == 0:\n",
    "        ax.set_ylabel(\"Silt content in %\", fontsize=fontsize)\n",
    "    for tick in ax.xaxis.get_major_ticks():\n",
    "        tick.label.set_fontsize(fontsize)\n",
    "    for tick in ax.yaxis.get_major_ticks():\n",
    "        tick.label.set_fontsize(fontsize)\n",
    "    \n",
    "    # add legend\n",
    "    if i % 2 != 0:\n",
    "        # plotting empty lists for legend\n",
    "        for c in color.keys():\n",
    "            ax.scatter(\n",
    "                [], [],\n",
    "                c=\"k\",\n",
    "                label=c[-1])\n",
    "        \n",
    "        ax.legend(fontsize=fontsize, title=\"Original soil class:\", frameon=False)\n",
    "        legend = ax.get_legend()\n",
    "        legend.get_title().set_fontsize(fontsize)\n",
    "        legend._legend_box.align = \"left\"\n",
    "        for i, c in enumerate(color.keys()):\n",
    "            legend.legendHandles[i].set_color(cmap(norm(color[c])))\n",
    "plt.tight_layout()\n",
    "plt.savefig(\"plots/wrong_classifications.pdf\", bbox_inches='tight')       "
   ]
  },
  {
   "cell_type": "code",
   "execution_count": null,
   "metadata": {},
   "outputs": [],
   "source": []
  }
 ],
 "metadata": {
  "kernelspec": {
   "display_name": "Python 3",
   "language": "python",
   "name": "python3"
  },
  "language_info": {
   "codemirror_mode": {
    "name": "ipython",
    "version": 3
   },
   "file_extension": ".py",
   "mimetype": "text/x-python",
   "name": "python",
   "nbconvert_exporter": "python",
   "pygments_lexer": "ipython3",
   "version": "3.7.7"
  },
  "toc": {
   "nav_menu": {},
   "number_sections": true,
   "sideBar": true,
   "skip_h1_title": false,
   "toc_cell": false,
   "toc_position": {},
   "toc_section_display": "block",
   "toc_window_display": false
  },
  "varInspector": {
   "cols": {
    "lenName": 16,
    "lenType": 16,
    "lenVar": 40
   },
   "kernels_config": {
    "python": {
     "delete_cmd_postfix": "",
     "delete_cmd_prefix": "del ",
     "library": "var_list.py",
     "varRefreshCmd": "print(var_dic_list())"
    },
    "r": {
     "delete_cmd_postfix": ") ",
     "delete_cmd_prefix": "rm(",
     "library": "var_list.r",
     "varRefreshCmd": "cat(var_dic_list()) "
    }
   },
   "types_to_exclude": [
    "module",
    "function",
    "builtin_function_or_method",
    "instance",
    "_Feature"
   ],
   "window_display": false
  }
 },
 "nbformat": 4,
 "nbformat_minor": 2
}
