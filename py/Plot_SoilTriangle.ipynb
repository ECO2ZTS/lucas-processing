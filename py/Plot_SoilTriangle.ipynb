{
 "cells": [
  {
   "cell_type": "markdown",
   "metadata": {},
   "source": [
    "# LUCAS – Plot Soil Triangle\n",
    "\n",
    "<div class=\"alert alert-block alert-info\">\n",
    "        This notebook refers to the studies presented in <b>Chapter 4</b> of the Ph.D. thesis [4].\n",
    "    With this notebook, you can process the raw LUCAS 2012 soil dataset to work with the 1D CNNs [2].\n",
    "    We can not guarantee completeness or correctness of the code.\n",
    "    If you find bugs or if you have suggestions on how to improve the code, we encourage you to post your ideas as <a href=\"https://github.com/felixriese/lucas-processing/issues\">GitHub issue</a>.\n",
    "</div>"
   ]
  },
  {
   "cell_type": "code",
   "execution_count": null,
   "metadata": {},
   "outputs": [],
   "source": [
    "%matplotlib inline\n",
    "%config InlineBackend.figure_format = 'retina'\n",
    "%load_ext autoreload\n",
    "%autoreload 2"
   ]
  },
  {
   "cell_type": "code",
   "execution_count": null,
   "metadata": {},
   "outputs": [],
   "source": [
    "import matplotlib.pyplot as plt\n",
    "import matplotlib\n",
    "import numpy as np\n",
    "import pandas as pd\n",
    "\n",
    "import lucas_utils"
   ]
  },
  {
   "cell_type": "code",
   "execution_count": null,
   "metadata": {},
   "outputs": [],
   "source": [
    "# CHANGE path to processed file 4_lucas_final.csv\n",
    "csv_path = \"data/4_lucas_final.csv\""
   ]
  },
  {
   "cell_type": "markdown",
   "metadata": {},
   "source": [
    "## Get data"
   ]
  },
  {
   "cell_type": "code",
   "execution_count": null,
   "metadata": {},
   "outputs": [],
   "source": [
    "df = pd.read_csv(csv_path)\n",
    "df.shape"
   ]
  },
  {
   "cell_type": "markdown",
   "metadata": {},
   "source": [
    "## Plot soil triangle"
   ]
  },
  {
   "cell_type": "code",
   "execution_count": null,
   "metadata": {
    "scrolled": false
   },
   "outputs": [],
   "source": [
    "color = {\"super_L\": 2, \"super_S\": 1, \"super_T\": 4, \"super_U\": 3}\n",
    "classes = list(color.keys())\n",
    "fontsize = 15\n",
    "\n",
    "def get_color(class_list):\n",
    "    return [int(color[cl]) for cl in class_list]\n",
    "\n",
    "fig, ax = plt.subplots(1, 1, figsize=(7, 7))\n",
    "\n",
    "# colormap\n",
    "cmap = plt.cm.viridis\n",
    "cmaplist = [cmap(i) for i in range(cmap.N)]\n",
    "cmap = matplotlib.colors.LinearSegmentedColormap.from_list('mcm', cmaplist, cmap.N)\n",
    "bounds = np.linspace(1, 5, 5)\n",
    "norm = matplotlib.colors.BoundaryNorm(bounds, cmap.N)\n",
    "\n",
    "ax.scatter(df[\"clay\"], df[\"silt\"],\n",
    "           c=get_color(df[\"superclass\"].values),\n",
    "           marker=\"o\", alpha=0.1, cmap=cmap, norm=norm, label=\"\")\n",
    "\n",
    "ax.set_xlim(0,100)\n",
    "ax.set_ylim(0,100)\n",
    "ax.set_xlabel(\"Clay content in %\", fontsize=fontsize, labelpad=15)\n",
    "ax.set_ylabel(\"Silt content in %\", fontsize=fontsize)\n",
    "for tick in ax.xaxis.get_major_ticks():\n",
    "    tick.label.set_fontsize(fontsize)\n",
    "for tick in ax.yaxis.get_major_ticks():\n",
    "    tick.label.set_fontsize(fontsize)\n",
    "\n",
    "    \n",
    "# plotting empty lists for legend\n",
    "for c in color.keys():\n",
    "    ax.scatter(\n",
    "        [], [],\n",
    "        c=\"k\",\n",
    "        label=c[-1])\n",
    "\n",
    "ax.legend(fontsize=fontsize, title=\"Soil class:\", frameon=False)\n",
    "legend = ax.get_legend()\n",
    "legend.get_title().set_fontsize(fontsize)\n",
    "legend._legend_box.align = \"left\"\n",
    "for i, c in enumerate(color.keys()):\n",
    "    legend.legendHandles[i].set_color(cmap(norm(color[c])))\n",
    "\n",
    "plt.savefig(\"plots/soil_map_4categories.pdf\", bbox_inches='tight')"
   ]
  },
  {
   "cell_type": "code",
   "execution_count": null,
   "metadata": {},
   "outputs": [],
   "source": []
  }
 ],
 "metadata": {
  "kernelspec": {
   "display_name": "Python 3",
   "language": "python",
   "name": "python3"
  },
  "language_info": {
   "codemirror_mode": {
    "name": "ipython",
    "version": 3
   },
   "file_extension": ".py",
   "mimetype": "text/x-python",
   "name": "python",
   "nbconvert_exporter": "python",
   "pygments_lexer": "ipython3",
   "version": "3.7.7"
  },
  "varInspector": {
   "cols": {
    "lenName": 16,
    "lenType": 16,
    "lenVar": 40
   },
   "kernels_config": {
    "python": {
     "delete_cmd_postfix": "",
     "delete_cmd_prefix": "del ",
     "library": "var_list.py",
     "varRefreshCmd": "print(var_dic_list())"
    },
    "r": {
     "delete_cmd_postfix": ") ",
     "delete_cmd_prefix": "rm(",
     "library": "var_list.r",
     "varRefreshCmd": "cat(var_dic_list()) "
    }
   },
   "types_to_exclude": [
    "module",
    "function",
    "builtin_function_or_method",
    "instance",
    "_Feature"
   ],
   "window_display": false
  }
 },
 "nbformat": 4,
 "nbformat_minor": 2
}
